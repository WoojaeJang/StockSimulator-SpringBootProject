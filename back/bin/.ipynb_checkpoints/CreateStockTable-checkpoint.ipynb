{
 "cells": [
  {
   "cell_type": "markdown",
   "id": "78554cf9",
   "metadata": {},
   "source": [
    "# 파이썬 - 주식 종목 코드 MySQL 저장"
   ]
  },
  {
   "cell_type": "markdown",
   "id": "b03fb403",
   "metadata": {},
   "source": [
    "## 참고사이트"
   ]
  },
  {
   "cell_type": "markdown",
   "id": "b0c90a77",
   "metadata": {},
   "source": [
    "- https://kang-stock-coding.tistory.com/19\n",
    "- https://www.dataquest.io/blog/sql-insert-tutorial/"
   ]
  },
  {
   "cell_type": "markdown",
   "id": "0f2365d6",
   "metadata": {},
   "source": [
    "## 데이터 불러오기"
   ]
  },
  {
   "cell_type": "code",
   "execution_count": 1,
   "id": "ff2f5b58",
   "metadata": {},
   "outputs": [],
   "source": [
    "import pandas as pd"
   ]
  },
  {
   "cell_type": "code",
   "execution_count": 9,
   "id": "3785acde",
   "metadata": {},
   "outputs": [],
   "source": [
    "df = pd.read_html('https://kind.krx.co.kr/corpgeneral/corpList.do?method=download', header=0)[0]\n",
    "df_stock = df[['종목코드', '회사명']]"
   ]
  },
  {
   "cell_type": "code",
   "execution_count": 11,
   "id": "b0558f36",
   "metadata": {},
   "outputs": [
    {
     "data": {
      "text/html": [
       "<div>\n",
       "<style scoped>\n",
       "    .dataframe tbody tr th:only-of-type {\n",
       "        vertical-align: middle;\n",
       "    }\n",
       "\n",
       "    .dataframe tbody tr th {\n",
       "        vertical-align: top;\n",
       "    }\n",
       "\n",
       "    .dataframe thead th {\n",
       "        text-align: right;\n",
       "    }\n",
       "</style>\n",
       "<table border=\"1\" class=\"dataframe\">\n",
       "  <thead>\n",
       "    <tr style=\"text-align: right;\">\n",
       "      <th></th>\n",
       "      <th>종목코드</th>\n",
       "      <th>회사명</th>\n",
       "    </tr>\n",
       "  </thead>\n",
       "  <tbody>\n",
       "    <tr>\n",
       "      <th>0</th>\n",
       "      <td>210</td>\n",
       "      <td>DL</td>\n",
       "    </tr>\n",
       "    <tr>\n",
       "      <th>1</th>\n",
       "      <td>4840</td>\n",
       "      <td>DRB동일</td>\n",
       "    </tr>\n",
       "    <tr>\n",
       "      <th>2</th>\n",
       "      <td>155660</td>\n",
       "      <td>DSR</td>\n",
       "    </tr>\n",
       "    <tr>\n",
       "      <th>3</th>\n",
       "      <td>78930</td>\n",
       "      <td>GS</td>\n",
       "    </tr>\n",
       "    <tr>\n",
       "      <th>4</th>\n",
       "      <td>11200</td>\n",
       "      <td>HMM</td>\n",
       "    </tr>\n",
       "    <tr>\n",
       "      <th>5</th>\n",
       "      <td>92220</td>\n",
       "      <td>KEC</td>\n",
       "    </tr>\n",
       "    <tr>\n",
       "      <th>6</th>\n",
       "      <td>16380</td>\n",
       "      <td>KG동부제철</td>\n",
       "    </tr>\n",
       "    <tr>\n",
       "      <th>7</th>\n",
       "      <td>1390</td>\n",
       "      <td>KG케미칼</td>\n",
       "    </tr>\n",
       "    <tr>\n",
       "      <th>8</th>\n",
       "      <td>25000</td>\n",
       "      <td>KPX케미칼</td>\n",
       "    </tr>\n",
       "    <tr>\n",
       "      <th>9</th>\n",
       "      <td>58860</td>\n",
       "      <td>KTis</td>\n",
       "    </tr>\n",
       "  </tbody>\n",
       "</table>\n",
       "</div>"
      ],
      "text/plain": [
       "     종목코드     회사명\n",
       "0     210      DL\n",
       "1    4840   DRB동일\n",
       "2  155660     DSR\n",
       "3   78930      GS\n",
       "4   11200     HMM\n",
       "5   92220     KEC\n",
       "6   16380  KG동부제철\n",
       "7    1390   KG케미칼\n",
       "8   25000  KPX케미칼\n",
       "9   58860    KTis"
      ]
     },
     "execution_count": 11,
     "metadata": {},
     "output_type": "execute_result"
    }
   ],
   "source": [
    "df_stock.head(10)"
   ]
  },
  {
   "cell_type": "markdown",
   "id": "fce72b35",
   "metadata": {},
   "source": [
    "## MySQL 연결"
   ]
  },
  {
   "cell_type": "code",
   "execution_count": 13,
   "id": "410d59d5",
   "metadata": {},
   "outputs": [],
   "source": [
    "# pip install mysqlclient"
   ]
  },
  {
   "cell_type": "code",
   "execution_count": 14,
   "id": "f39109d3",
   "metadata": {},
   "outputs": [],
   "source": [
    "import MySQLdb"
   ]
  },
  {
   "cell_type": "code",
   "execution_count": 21,
   "id": "22a5091f",
   "metadata": {},
   "outputs": [],
   "source": [
    "connection = MySQLdb.connect(\n",
    "    host=\"localhost\",\n",
    "    user=\"root\", \n",
    "    passwd=\"1234\", \n",
    "    db=\"stock_simulator\"\n",
    ")\n",
    "\n",
    "connection.set_character_set('utf8')\n",
    "\n",
    "curosr = connection.cursor()"
   ]
  },
  {
   "cell_type": "markdown",
   "id": "bff57bfc",
   "metadata": {},
   "source": [
    "## MySQL 저장 (SQL문 실행)"
   ]
  },
  {
   "cell_type": "code",
   "execution_count": null,
   "id": "d7f35c54",
   "metadata": {},
   "outputs": [],
   "source": []
  },
  {
   "cell_type": "code",
   "execution_count": null,
   "id": "43de68e9",
   "metadata": {},
   "outputs": [],
   "source": []
  },
  {
   "cell_type": "markdown",
   "id": "823c9c32",
   "metadata": {},
   "source": [
    "## MySQL 연결 헤제"
   ]
  },
  {
   "cell_type": "code",
   "execution_count": 22,
   "id": "cd6755a5",
   "metadata": {},
   "outputs": [],
   "source": [
    "connection.close()"
   ]
  },
  {
   "cell_type": "code",
   "execution_count": null,
   "id": "f8fab107",
   "metadata": {},
   "outputs": [],
   "source": []
  }
 ],
 "metadata": {
  "kernelspec": {
   "display_name": "Python 3 (ipykernel)",
   "language": "python",
   "name": "python3"
  },
  "language_info": {
   "codemirror_mode": {
    "name": "ipython",
    "version": 3
   },
   "file_extension": ".py",
   "mimetype": "text/x-python",
   "name": "python",
   "nbconvert_exporter": "python",
   "pygments_lexer": "ipython3",
   "version": "3.9.7"
  }
 },
 "nbformat": 4,
 "nbformat_minor": 5
}
